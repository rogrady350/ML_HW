{
 "cells": [
  {
   "cell_type": "code",
   "execution_count": 10,
   "id": "15b153fa-ae9f-49b5-ba2b-d985ee5673af",
   "metadata": {},
   "outputs": [
    {
     "name": "stdout",
     "output_type": "stream",
     "text": [
      "Imports loaded\n"
     ]
    }
   ],
   "source": [
    "#1 imports\n",
    "from pathlib import Path\n",
    "\n",
    "#file paths\n",
    "ROOT = ROOT = Path.cwd().parent\n",
    "RAW_DIR = ROOT/\"data\"/\"raw\"\n",
    "PROCESSED_DIR = ROOT/\"data\"/\"processed\"\n",
    "\n",
    "import sys, os\n",
    "import pandas as pd\n",
    "import numpy as np\n",
    "import re\n",
    "\n",
    "sys.path.insert(0, os.path.abspath(\"..\")) #preprocess at root\n",
    "from preprocess import load_csv, save_csv, split_data\n",
    "\n",
    "import seaborn as sns\n",
    "from matplotlib import pyplot as plt\n",
    "%matplotlib inline\n",
    "\n",
    "print(\"Imports loaded\")"
   ]
  },
  {
   "cell_type": "code",
   "execution_count": 11,
   "id": "7c91c3a9-a56c-4a08-9832-a8fc6efc102b",
   "metadata": {},
   "outputs": [
    {
     "name": "stdout",
     "output_type": "stream",
     "text": [
      "Loaded data02.csv: length: 11914 \n",
      "\n",
      "  Make       Model  Year             Engine Fuel Type  Engine HP  \\\n",
      "0  BMW  1 Series M  2011  premium unleaded (required)      335.0   \n",
      "1  BMW    1 Series  2011  premium unleaded (required)      300.0   \n",
      "2  BMW    1 Series  2011  premium unleaded (required)      300.0   \n",
      "3  BMW    1 Series  2011  premium unleaded (required)      230.0   \n",
      "4  BMW    1 Series  2011  premium unleaded (required)      230.0   \n",
      "\n",
      "   Engine Cylinders Transmission Type     Driven_Wheels  Number of Doors  \\\n",
      "0               6.0            MANUAL  rear wheel drive              2.0   \n",
      "1               6.0            MANUAL  rear wheel drive              2.0   \n",
      "2               6.0            MANUAL  rear wheel drive              2.0   \n",
      "3               6.0            MANUAL  rear wheel drive              2.0   \n",
      "4               6.0            MANUAL  rear wheel drive              2.0   \n",
      "\n",
      "                         Market Category Vehicle Size Vehicle Style  \\\n",
      "0  Factory Tuner,Luxury,High-Performance      Compact         Coupe   \n",
      "1                     Luxury,Performance      Compact   Convertible   \n",
      "2                Luxury,High-Performance      Compact         Coupe   \n",
      "3                     Luxury,Performance      Compact         Coupe   \n",
      "4                                 Luxury      Compact   Convertible   \n",
      "\n",
      "   highway MPG  city mpg  Popularity   MSRP  \n",
      "0           26        19        3916  46135  \n",
      "1           28        19        3916  40650  \n",
      "2           28        20        3916  36350  \n",
      "3           28        18        3916  29450  \n",
      "4           28        18        3916  34500  \n"
     ]
    }
   ],
   "source": [
    "#2.1 load data\n",
    "df = load_csv(RAW_DIR, \"data02.csv\")\n",
    "\n",
    "print(df.head()) #first 5 rows"
   ]
  },
  {
   "cell_type": "code",
   "execution_count": 12,
   "id": "516bc798-ea2c-456e-9b09-be0af99d4f80",
   "metadata": {
    "scrolled": true
   },
   "outputs": [
    {
     "name": "stdout",
     "output_type": "stream",
     "text": [
      "Saved data02_cleaned.csv\n"
     ]
    },
    {
     "data": {
      "text/html": [
       "<div>\n",
       "<style scoped>\n",
       "    .dataframe tbody tr th:only-of-type {\n",
       "        vertical-align: middle;\n",
       "    }\n",
       "\n",
       "    .dataframe tbody tr th {\n",
       "        vertical-align: top;\n",
       "    }\n",
       "\n",
       "    .dataframe thead th {\n",
       "        text-align: right;\n",
       "    }\n",
       "</style>\n",
       "<table border=\"1\" class=\"dataframe\">\n",
       "  <thead>\n",
       "    <tr style=\"text-align: right;\">\n",
       "      <th></th>\n",
       "      <th>make</th>\n",
       "      <th>model</th>\n",
       "      <th>year</th>\n",
       "      <th>engine_fuel_type</th>\n",
       "      <th>engine_hp</th>\n",
       "      <th>engine_cylinders</th>\n",
       "      <th>transmission_type</th>\n",
       "      <th>driven_wheels</th>\n",
       "      <th>number_of_doors</th>\n",
       "      <th>market_category</th>\n",
       "      <th>vehicle_size</th>\n",
       "      <th>vehicle_style</th>\n",
       "      <th>highway_mpg</th>\n",
       "      <th>city_mpg</th>\n",
       "      <th>popularity</th>\n",
       "      <th>msrp</th>\n",
       "    </tr>\n",
       "  </thead>\n",
       "  <tbody>\n",
       "    <tr>\n",
       "      <th>0</th>\n",
       "      <td>bmw</td>\n",
       "      <td>1_series_m</td>\n",
       "      <td>2011</td>\n",
       "      <td>premium_unleaded_(required)</td>\n",
       "      <td>335.0</td>\n",
       "      <td>6.0</td>\n",
       "      <td>manual</td>\n",
       "      <td>rear_wheel_drive</td>\n",
       "      <td>2.0</td>\n",
       "      <td>factory_tuner,luxury,high-performance</td>\n",
       "      <td>compact</td>\n",
       "      <td>coupe</td>\n",
       "      <td>26</td>\n",
       "      <td>19</td>\n",
       "      <td>3916</td>\n",
       "      <td>46135</td>\n",
       "    </tr>\n",
       "    <tr>\n",
       "      <th>1</th>\n",
       "      <td>bmw</td>\n",
       "      <td>1_series</td>\n",
       "      <td>2011</td>\n",
       "      <td>premium_unleaded_(required)</td>\n",
       "      <td>300.0</td>\n",
       "      <td>6.0</td>\n",
       "      <td>manual</td>\n",
       "      <td>rear_wheel_drive</td>\n",
       "      <td>2.0</td>\n",
       "      <td>luxury,performance</td>\n",
       "      <td>compact</td>\n",
       "      <td>convertible</td>\n",
       "      <td>28</td>\n",
       "      <td>19</td>\n",
       "      <td>3916</td>\n",
       "      <td>40650</td>\n",
       "    </tr>\n",
       "    <tr>\n",
       "      <th>2</th>\n",
       "      <td>bmw</td>\n",
       "      <td>1_series</td>\n",
       "      <td>2011</td>\n",
       "      <td>premium_unleaded_(required)</td>\n",
       "      <td>300.0</td>\n",
       "      <td>6.0</td>\n",
       "      <td>manual</td>\n",
       "      <td>rear_wheel_drive</td>\n",
       "      <td>2.0</td>\n",
       "      <td>luxury,high-performance</td>\n",
       "      <td>compact</td>\n",
       "      <td>coupe</td>\n",
       "      <td>28</td>\n",
       "      <td>20</td>\n",
       "      <td>3916</td>\n",
       "      <td>36350</td>\n",
       "    </tr>\n",
       "    <tr>\n",
       "      <th>3</th>\n",
       "      <td>bmw</td>\n",
       "      <td>1_series</td>\n",
       "      <td>2011</td>\n",
       "      <td>premium_unleaded_(required)</td>\n",
       "      <td>230.0</td>\n",
       "      <td>6.0</td>\n",
       "      <td>manual</td>\n",
       "      <td>rear_wheel_drive</td>\n",
       "      <td>2.0</td>\n",
       "      <td>luxury,performance</td>\n",
       "      <td>compact</td>\n",
       "      <td>coupe</td>\n",
       "      <td>28</td>\n",
       "      <td>18</td>\n",
       "      <td>3916</td>\n",
       "      <td>29450</td>\n",
       "    </tr>\n",
       "    <tr>\n",
       "      <th>4</th>\n",
       "      <td>bmw</td>\n",
       "      <td>1_series</td>\n",
       "      <td>2011</td>\n",
       "      <td>premium_unleaded_(required)</td>\n",
       "      <td>230.0</td>\n",
       "      <td>6.0</td>\n",
       "      <td>manual</td>\n",
       "      <td>rear_wheel_drive</td>\n",
       "      <td>2.0</td>\n",
       "      <td>luxury</td>\n",
       "      <td>compact</td>\n",
       "      <td>convertible</td>\n",
       "      <td>28</td>\n",
       "      <td>18</td>\n",
       "      <td>3916</td>\n",
       "      <td>34500</td>\n",
       "    </tr>\n",
       "  </tbody>\n",
       "</table>\n",
       "</div>"
      ],
      "text/plain": [
       "  make       model  year             engine_fuel_type  engine_hp  \\\n",
       "0  bmw  1_series_m  2011  premium_unleaded_(required)      335.0   \n",
       "1  bmw    1_series  2011  premium_unleaded_(required)      300.0   \n",
       "2  bmw    1_series  2011  premium_unleaded_(required)      300.0   \n",
       "3  bmw    1_series  2011  premium_unleaded_(required)      230.0   \n",
       "4  bmw    1_series  2011  premium_unleaded_(required)      230.0   \n",
       "\n",
       "   engine_cylinders transmission_type     driven_wheels  number_of_doors  \\\n",
       "0               6.0            manual  rear_wheel_drive              2.0   \n",
       "1               6.0            manual  rear_wheel_drive              2.0   \n",
       "2               6.0            manual  rear_wheel_drive              2.0   \n",
       "3               6.0            manual  rear_wheel_drive              2.0   \n",
       "4               6.0            manual  rear_wheel_drive              2.0   \n",
       "\n",
       "                         market_category vehicle_size vehicle_style  \\\n",
       "0  factory_tuner,luxury,high-performance      compact         coupe   \n",
       "1                     luxury,performance      compact   convertible   \n",
       "2                luxury,high-performance      compact         coupe   \n",
       "3                     luxury,performance      compact         coupe   \n",
       "4                                 luxury      compact   convertible   \n",
       "\n",
       "   highway_mpg  city_mpg  popularity   msrp  \n",
       "0           26        19        3916  46135  \n",
       "1           28        19        3916  40650  \n",
       "2           28        20        3916  36350  \n",
       "3           28        18        3916  29450  \n",
       "4           28        18        3916  34500  "
      ]
     },
     "execution_count": 12,
     "metadata": {},
     "output_type": "execute_result"
    }
   ],
   "source": [
    "#2.2 clean data\n",
    "df.columns = df.columns.str.lower().str.replace(' ', '_') #lowercase, replace spaces in col names\n",
    "\n",
    "string_columns = list(df.dtypes[df.dtypes == 'object'].index) #keep only string cols\n",
    "for col in string_columns:\n",
    "    df[col] = df[col].str.lower().str.replace(' ', '_')\n",
    "\n",
    "save_csv(df, PROCESSED_DIR, \"data02_cleaned.csv\")\n",
    "df.head()"
   ]
  },
  {
   "cell_type": "code",
   "execution_count": 13,
   "id": "e130f403-0855-4e06-8030-8ad406fdffd9",
   "metadata": {},
   "outputs": [
    {
     "data": {
      "image/png": "[encoded data removed]",
      "text/plain": [
       "<Figure size 640x480 with 1 Axes>"
      ]
     },
     "metadata": {},
     "output_type": "display_data"
    },
    {
     "data": {
      "image/png": "[encoded data removed]",
      "text/plain": [
       "<Figure size 640x480 with 1 Axes>"
      ]
     },
     "metadata": {},
     "output_type": "display_data"
    },
    {
     "data": {
      "image/png": "[encoded data removed]",
      "text/plain": [
       "<Figure size 640x480 with 1 Axes>"
      ]
     },
     "metadata": {},
     "output_type": "display_data"
    }
   ],
   "source": [
    "#2.3 check target (MSRP) distribution\n",
    "sns.histplot(df.msrp, bins=40).set(title=\"MSRP full distribution\", xlabel=\"Price\", ylabel=\"Frequency\")\n",
    "plt.show()\n",
    "\n",
    "sns.histplot(df.msrp[df.msrp < 100000]).set(title=\"MSRP < 100k\", xlabel=\"Price\", ylabel=\"Frequency\")\n",
    "plt.show()\n",
    "\n",
    "#apply log transformation to prevent large values from dominating training: y_new = log(y+1)\n",
    "log_price = np.log1p(df.msrp)\n",
    "sns.histplot(log_price).set(title=\"Normalized distribution\", xlabel=\"Log(Price +1)\", ylabel=\"Frequency\")\n",
    "plt.show()"
   ]
  },
  {
   "cell_type": "code",
   "execution_count": 14,
   "id": "0b9d307b-a0aa-4dc1-bedb-cd687adb600c",
   "metadata": {},
   "outputs": [
    {
     "data": {
      "text/plain": [
       "[Text(0.5, 1.0, 'Normalized distribution')]"
      ]
     },
     "execution_count": 14,
     "metadata": {},
     "output_type": "execute_result"
    },
    {
     "data": {
      "image/png": "[encoded data removed]",
      "text/plain": [
       "<Figure size 640x480 with 1 Axes>"
      ]
     },
     "metadata": {},
     "output_type": "display_data"
    },
    {
     "data": {
      "image/png": "[encoded data removed]",
      "text/plain": [
       "<Figure size 640x480 with 1 Axes>"
      ]
     },
     "metadata": {},
     "output_type": "display_data"
    },
    {
     "data": {
      "image/png": "[encoded data removed]",
      "text/plain": [
       "<Figure size 640x480 with 1 Axes>"
      ]
     },
     "metadata": {},
     "output_type": "display_data"
    }
   ],
   "source": [
    "# 4 check target (MSRP) distribution\n",
    "\n",
    "plt.figure()\n",
    "sns.histplot(df.msrp, bins=40).set(title=\"MSRP full distribution\", xlabel=\"Price\", ylabel=\"Frequency\")\n",
    "\n",
    "plt.figure()\n",
    "sns.histplot(df.msrp[df.msrp < 100000]).set(title = \"MSRP < 100k\", xlabel=\"Price\", ylabel=\"Frequency\")\n",
    "\n",
    "#apply log transformation to prevent large values from dominating training: y_new = log(y+1)\n",
    "log_price = np.log1p(df.msrp)\n",
    "plt.figure()\n",
    "sns.histplot(log_price).set(title = \"Normalized distribution\")"
   ]
  },
  {
   "cell_type": "code",
   "execution_count": 15,
   "id": "43cc6d20-7854-460d-8d37-d768ebe3b552",
   "metadata": {},
   "outputs": [
    {
     "data": {
      "text/plain": [
       "make                    0\n",
       "model                   0\n",
       "year                    0\n",
       "engine_fuel_type        3\n",
       "engine_hp              69\n",
       "engine_cylinders       30\n",
       "transmission_type       0\n",
       "driven_wheels           0\n",
       "number_of_doors         6\n",
       "market_category      3742\n",
       "vehicle_size            0\n",
       "vehicle_style           0\n",
       "highway_mpg             0\n",
       "city_mpg                0\n",
       "popularity              0\n",
       "msrp                    0\n",
       "dtype: int64"
      ]
     },
     "execution_count": 15,
     "metadata": {},
     "output_type": "execute_result"
    }
   ],
   "source": [
    "#2.4 check for missing values\n",
    "df.isnull().sum()"
   ]
  },
  {
   "cell_type": "code",
   "execution_count": 16,
   "id": "8beb3192-2d2f-457c-83c5-d88bd86bc091",
   "metadata": {},
   "outputs": [
    {
     "name": "stdout",
     "output_type": "stream",
     "text": [
      "Loaded data02_cleaned.csv: length: 11914 \n",
      "\n",
      "\n",
      "before shuffle [    0     1     2 ... 11911 11912 11913]\n",
      "\n",
      "after shuffle [2735 6720 5878 ... 6637 2575 7336]\n"
     ]
    }
   ],
   "source": [
    "#2.5 validation framwork\n",
    "df_clean = load_csv(PROCESSED_DIR, \"data02_cleaned.csv\") #load cleaned data\n",
    "\n",
    "df_train, df_val, df_test = split_data(df_clean) #split sets\n",
    "\n",
    "#apply log transforms to msrp\n",
    "y_train = np.log1p(df_train.msrp.values)\n",
    "y_val = np.log1p(df_val.msrp.values)\n",
    "y_test = np.log1p(df_test.msrp.values)\n",
    "\n",
    "del df_train['msrp']\n",
    "del df_val['msrp']\n",
    "del df_test['msrp']"
   ]
  },
  {
   "cell_type": "code",
   "execution_count": 17,
   "id": "5b65ba04-32c9-402f-b910-60889d354c82",
   "metadata": {},
   "outputs": [],
   "source": [
    "#3. implement linear regression model for training\n",
    "#learn linear model from X features and y target\n",
    "def train_linear_regression(X, y):\n",
    "    ones = np.ones(X.shape[0])    #bias column: create vector of 1s, n rows in X\n",
    "    X = np.column_stack([ones, X]) #add biased column to the left of X\n",
    "\n",
    "    XTX = X.T.dot(X)             #Gram matrix: cross product of columns\n",
    "    XTX_inv = np.linalg.inv(XTX) #inverse of XTX - lets us solve for weights\n",
    "    w = XTX_inv.dot(X.T).dot(y)  #normal equation: find weight that minimize mean squared error\n",
    "\n",
    "    #w0: intercept - the models baseline prediction\n",
    "    #w[1:]: vector of feature weights w\n",
    "    return w[0], w[1:]\n",
    "\n",
    "#normal built in equivalent:\n",
    "#from sklearn.linear_model import LinearRegression\n",
    "#lr = LinearRegression(fit_intercept=True).fit(X_train, y_train)\n",
    "#w0 = lr.intercept_\n",
    "#w  = lr.coef_\n"
   ]
  },
  {
   "cell_type": "code",
   "execution_count": 19,
   "id": "e73c5c2a-7d82-482e-899b-a5a16555bf47",
   "metadata": {},
   "outputs": [
    {
     "data": {
      "image/png": "[encoded data removed]",
      "text/plain": [
       "<Figure size 640x480 with 1 Axes>"
      ]
     },
     "metadata": {},
     "output_type": "display_data"
    }
   ],
   "source": [
    "#4. Prediction\n",
    "#4.1 Baseline\n",
    "#base feature list\n",
    "base = ['engine_hp', 'engine_cylinders', 'highway_mpg', 'city_mpg', 'popularity']\n",
    "\n",
    "def prepare_X(df):\n",
    "    df_num = df[base]         #basline df\n",
    "    df_num = df_num.fillna(0) #fill missing values with 0. not best but simple and good enough  \n",
    "    X = df_num.values         #convert df to 2D np array\n",
    "\n",
    "    return X\n",
    "\n",
    "#train model\n",
    "X_train = prepare_X(df_train)\n",
    "w_0, w = train_linear_regression(X_train, y_train) #run linear regression\n",
    "\n",
    "#apply to training dataset to check prediction\n",
    "y_pred_train = w_0 + X_train.dot(w)\n",
    "\n",
    "#view prediction vs target\n",
    "sns.histplot(y_pred_train, label='prediction')\n",
    "sns.histplot(y_train, label='target')\n",
    "plt.legend()\n",
    "plt.xlabel('Log(Price+1)')\n",
    "plt.ylabel('Frequency')\n",
    "\n",
    "plt.show()"
   ]
  },
  {
   "cell_type": "code",
   "execution_count": 20,
   "id": "3d9e77cf-d98b-40dc-9f2a-f2e555d0e102",
   "metadata": {},
   "outputs": [
    {
     "name": "stdout",
     "output_type": "stream",
     "text": [
      "amount off training set: 0.7554192603920132\n",
      "amount off validation set: 0.761653099130156\n"
     ]
    }
   ],
   "source": [
    "#4.2 model quality\n",
    "#RMSE: how larger errors are\n",
    "def rmse(y, y_pred):\n",
    "    error = y_pred - y        #array with differences between predicted vals vs actual vals\n",
    "    mse = (error ** 2).mean() #squre errors then average\n",
    "    return np.sqrt(mse)       #sqrt of mse\n",
    "\n",
    "#4.3 eval model quality\n",
    "print('amount off training set:', rmse(y_train, y_pred_train)) #display how far model is off\n",
    "\n",
    "#apply model to validation dataset\n",
    "X_val = prepare_X(df_val)\n",
    "y_pred_val = w_0 + X_val.dot(w)\n",
    "print('amount off validation set:', rmse(y_val, y_pred_val)) #display how far model is off"
   ]
  },
  {
   "cell_type": "code",
   "execution_count": 21,
   "id": "1f28a150-5aec-49bd-9890-8fe7498635a9",
   "metadata": {},
   "outputs": [
    {
     "name": "stdout",
     "output_type": "stream",
     "text": [
      "amount off training set: 0.5175055465840046\n",
      "amount off validation set: 0.5172055461058299\n"
     ]
    },
    {
     "data": {
      "image/png": "[encoded data removed]",
      "text/plain": [
       "<Figure size 640x480 with 1 Axes>"
      ]
     },
     "metadata": {},
     "output_type": "display_data"
    }
   ],
   "source": [
    "#4.4 improve model by adding more features\n",
    "def prepare_X(df):\n",
    "    df = df.copy()          #copy of input df\n",
    "    features = base.copy() #copy of base features\n",
    "\n",
    "    df['age'] = 2017 - df.year #compute vehicle age, dataset created 2017\n",
    "    features.append('age')     #add age to feature list\n",
    "\n",
    "    df_num =df[features] #df with age added\n",
    "    df_num=df_num.fillna(0)\n",
    "    X = df_num.values\n",
    "\n",
    "    return X\n",
    "\n",
    "#train with new features\n",
    "X_train = prepare_X(df_train)\n",
    "w_0, w = train_linear_regression(X_train, y_train)\n",
    "\n",
    "#eval new features\n",
    "y_pred_train = w_0 + X_train.dot(w) #apply to training dataset\n",
    "print('amount off training set:', rmse(y_train, y_pred_train)) #display how far model is off\n",
    "\n",
    "#apply to validation dataset\n",
    "X_val = prepare_X(df_val)\n",
    "y_pred_val = w_0 + X_val.dot(w)\n",
    "print('amount off validation set:', rmse(y_val, y_pred_val)) #display how far model is off\n",
    "\n",
    "#plot distribtution\n",
    "sns.histplot(y_pred_val, label='Prediction')\n",
    "sns.histplot(y_val, label='Target')\n",
    "\n",
    "plt.legend()\n",
    "plt.xlabel('Log(Price+1)')\n",
    "plt.ylabel('Frequency')\n",
    "\n",
    "plt.show()"
   ]
  },
  {
   "cell_type": "code",
   "execution_count": 22,
   "id": "5af922e9-7a27-4046-b958-80bc8b66cf25",
   "metadata": {},
   "outputs": [
    {
     "name": "stdout",
     "output_type": "stream",
     "text": [
      "make\n",
      "chevrolet     1123\n",
      "ford           881\n",
      "volkswagen     809\n",
      "toyota         746\n",
      "dodge          626\n",
      "Name: count, dtype: int64 \n",
      "\n",
      "['chevrolet', 'ford', 'volkswagen', 'toyota', 'dodge']\n"
     ]
    }
   ],
   "source": [
    "#4.5 catigorical values\n",
    "#find top 5 makes\n",
    "top5_counts = df['make'].value_counts().head(5)\n",
    "print(top5_counts, \"\\n\")\n",
    "\n",
    "top5_makes = top5_counts.index.tolist()\n",
    "print(top5_makes)"
   ]
  },
  {
   "cell_type": "code",
   "execution_count": 23,
   "id": "c9989054-58fe-443a-b67d-4b77fdb24f1f",
   "metadata": {},
   "outputs": [
    {
     "name": "stdout",
     "output_type": "stream",
     "text": [
      "amount off training set: 0.5058876515487503\n",
      "amount off validation set: 0.5076038849556795\n"
     ]
    }
   ],
   "source": [
    "#doors and makes for features\n",
    "def prepare_X(df):\n",
    "    df = df.copy()          #copy of input df\n",
    "    features = base.copy() #copy of base features\n",
    "\n",
    "    df['age'] = 2017 - df.year #compute vehicle age, dataset created 2017\n",
    "    features.append('age')     #add age to feature list\n",
    "\n",
    "    #number of doors (possible values; 2, 3, 4)\n",
    "    for v in [2, 3, 4]:\n",
    "        num_doors = 'num_doors_%s' % v                           #feature name for v num of doors\n",
    "        df[num_doors] = (df['number_of_doors'] == v).astype(int) #one-hot encoding\n",
    "        features.append(num_doors)\n",
    "\n",
    "    #top 5 makes\n",
    "    for v in top5_makes:\n",
    "        makes = 'is_make_%s' % v\n",
    "        df[makes] = (df['make'] == v).astype(int)\n",
    "        features.append(makes)\n",
    "\n",
    "    df_num =df[features] #df with new features\n",
    "    df_num=df_num.fillna(0)\n",
    "    X = df_num.values\n",
    "\n",
    "    return X\n",
    "\n",
    "#train with new features\n",
    "X_train = prepare_X(df_train)\n",
    "w_0, w = train_linear_regression(X_train, y_train)\n",
    "\n",
    "#eval new features\n",
    "y_pred_train = w_0 + X_train.dot(w) #apply to training dataset\n",
    "print('amount off training set:', rmse(y_train, y_pred_train)) #display how far model is off\n",
    "\n",
    "#apply to validation dataset\n",
    "X_val = prepare_X(df_val)\n",
    "y_pred_val = w_0 + X_val.dot(w)\n",
    "print('amount off validation set:', rmse(y_val, y_pred_val)) #display how far model is off"
   ]
  },
  {
   "cell_type": "code",
   "execution_count": 37,
   "id": "b2a7eacc-c5b5-41a5-bd6e-6c54318ef4e1",
   "metadata": {},
   "outputs": [
    {
     "name": "stdout",
     "output_type": "stream",
     "text": [
      "fuels: ['regular_unleaded', 'premium_unleaded_(required)', 'premium_unleaded_(recommended)', 'flex-fuel_(unleaded/e85)', 'diesel']\n",
      "transmissions: ['automatic', 'manual', 'automated_manual', 'direct_drive', 'unknown']\n",
      "driven wheels: ['front_wheel_drive', 'rear_wheel_drive', 'all_wheel_drive', 'four_wheel_drive']\n",
      "market category: ['crossover', 'flex_fuel', 'luxury', 'luxury,performance', 'hatchback']\n",
      "vehicle size: ['compact', 'midsize', 'large']\n",
      "vehicle style: ['sedan', '4dr_suv', 'coupe', 'convertible', '4dr_hatchback']\n"
     ]
    }
   ],
   "source": [
    "#add more categories: fuel types, trans, num drive wheels, category, size, style (top 5's)\n",
    "fuels = df['engine_fuel_type'].value_counts().head().index.tolist()\n",
    "print(\"fuels:\", fuels)\n",
    "\n",
    "trans = df['transmission_type'].value_counts().head().index.tolist()\n",
    "print(\"transmissions:\", trans)\n",
    "\n",
    "wheels = df['driven_wheels'].value_counts().head().index.tolist()\n",
    "print(\"driven wheels:\", wheels)\n",
    "\n",
    "category = df['market_category'].value_counts().head().index.tolist()\n",
    "print(\"market category:\", category)\n",
    "\n",
    "size = df['vehicle_size'].value_counts().head().index.tolist()\n",
    "print(\"vehicle size:\", size)\n",
    "\n",
    "style = df['vehicle_style'].value_counts().head().index.tolist()\n",
    "print(\"vehicle style:\", style)"
   ]
  },
  {
   "cell_type": "code",
   "execution_count": 34,
   "id": "6aee8692-643b-443b-902a-1aa0c006ef41",
   "metadata": {},
   "outputs": [
    {
     "name": "stdout",
     "output_type": "stream",
     "text": [
      "amount off training set: 35.63386933735464\n",
      "amount off validation set: 23.019020704791835\n"
     ]
    }
   ],
   "source": [
    "#definition to add features\n",
    "def add_features(df, col, values, prefix):\n",
    "    cols = []\n",
    "    for v in values:\n",
    "        suffix = re.sub(r'[^0-9A-Za-z]+', '_', str(v)).strip('_').lower() #regex safe values\n",
    "        c = f\"{prefix}_{suffix}\"\n",
    "        df[c] = (df[col] == v).astype(int)\n",
    "        cols.append(c)\n",
    "\n",
    "    return cols\n",
    "\n",
    "def prepare_X(df):\n",
    "    df = df.copy()         #copy of input df\n",
    "    features = base.copy() #copy of base features\n",
    "\n",
    "    df['age'] = 2017 - df.year #compute vehicle age, dataset created 2017\n",
    "    features.append('age')     #add age to feature list\n",
    "\n",
    "    #add features\n",
    "    features += add_features(df, \"number_of_doors\", [2, 3, 4], \"num_doors\")\n",
    "    features += add_features(df, \"make\", top5_makes, \"is_make\")\n",
    "    features += add_features(df, \"engine_fuel_type\", fuels, \"fuel\")\n",
    "    features += add_features(df, \"transmission_type\", trans, \"trans\")\n",
    "    features += add_features(df, \"driven_wheels\", wheels, \"drive\")\n",
    "    features += add_features(df, \"market_category\", category, \"mc\")\n",
    "    features += add_features(df, \"vehicle_size\", size, \"vsize\")\n",
    "    features += add_features(df, \"vehicle_style\", style, \"vstyle\")\n",
    "\n",
    "    return df[features].fillna(0).values\n",
    "\n",
    "#train with new features\n",
    "X_train = prepare_X(df_train)\n",
    "w_0, w = train_linear_regression(X_train, y_train)\n",
    "\n",
    "#eval new features\n",
    "y_pred_train = w_0 + X_train.dot(w) #apply to training dataset\n",
    "print('amount off training set:', rmse(y_train, y_pred_train)) #display how far model is off\n",
    "\n",
    "#apply to validation dataset\n",
    "X_val = prepare_X(df_val)\n",
    "y_pred_val = w_0 + X_val.dot(w)\n",
    "print('amount off validation set:', rmse(y_val, y_pred_val)) #display how far model is off"
   ]
  },
  {
   "cell_type": "code",
   "execution_count": 39,
   "id": "6a78e0f6-1287-4bc4-b270-017ca045920d",
   "metadata": {},
   "outputs": [],
   "source": [
    "#4.6 add ridge - add regularization parameter 'r'\n",
    "def train_linear_ridge(X, y, r=0.01):\n",
    "    ones = np.ones(X.shape[0])    #bias column: create vector of 1s, n rows in X\n",
    "    X = np.column_stack([ones, X]) #add biased column to the left of X\n",
    "\n",
    "    XTX = X.T.dot(X)              #Gram matrix: cross product of columns\n",
    "    \n",
    "    reg = r * np.eye(XTX.shape[0]) #np.eye: identity matrix. multiply by reg param to get only this number on main diagnal\n",
    "    XTX = XTX + reg                #add r to main diagnol of Gram matrix\n",
    "    \n",
    "    XTX_inv = np.linalg.inv(XTX)  #inverse of XTX - lets us solve for weights                \n",
    "    w = XTX_inv.dot(X.T).dot(y)   #normal equation: find weight that minimize mean squared error\n",
    "\n",
    "    #w0: intercept - the models baseline prediction\n",
    "    #w[1:]: vector of feature weights w\n",
    "    return w[0], w[1:]"
   ]
  },
  {
   "cell_type": "code",
   "execution_count": 40,
   "id": "570e63f6-fd59-49d1-b38d-62c568635f37",
   "metadata": {},
   "outputs": [
    {
     "name": "stdout",
     "output_type": "stream",
     "text": [
      "    0, 4011091003551887.00, -2.28, -4600609843017559.00\n",
      "0.001, 6.29, -0.11, 1.15\n",
      " 0.01, 6.28, -0.11, 1.15\n",
      "  0.1, 6.19, -0.11, 1.14\n",
      "    1, 5.63, -0.11, 1.05\n",
      "   10, 4.28, -0.10, 1.02\n"
     ]
    }
   ],
   "source": [
    "#the more regularization added, the smaller the wights become\n",
    "#check various weights\n",
    "X_train = prepare_X(df_train)\n",
    "for r in [0, 0.001, 0.01, 0.1, 1, 10]:\n",
    "    w_0, w = train_linear_ridge(X_train, y_train, r=r)\n",
    "    print('%5s, %.2f, %.2f, %.2f' % (r, w_0, w[13], w[21]))"
   ]
  },
  {
   "cell_type": "code",
   "execution_count": 44,
   "id": "33b8f55d-41a8-45da-8bba-262156dd2450",
   "metadata": {},
   "outputs": [
    {
     "name": "stdout",
     "output_type": "stream",
     "text": [
      "amount off validation set with ridge:\n",
      " 1e-06 0.4565172637906094\n",
      "0.0001 0.4565170654323052\n",
      " 0.001 0.45651750867781377\n",
      "  0.01 0.45652199012897743\n",
      "   0.1 0.4565692763007501\n",
      "     1 0.45722043179930605\n",
      "     5 0.4622930016735736\n",
      "    10 0.4701456932099909\n"
     ]
    }
   ],
   "source": [
    "#train with ridge\n",
    "X_train = prepare_X(df_train)\n",
    "X_val = prepare_X(df_val)\n",
    "\n",
    "print('amount off validation set with ridge:')\n",
    "for r in [0.000001, 0.0001, 0.001, 0.01, 0.1, 1, 5, 10]:\n",
    "    w_0, w = train_linear_ridge(X_train, y_train, r=r)\n",
    "    y_pred_val = w_0 + X_val.dot(w)\n",
    "    print('%6s' %r, rmse(y_val, y_pred_val)) #display how far model is off"
   ]
  },
  {
   "cell_type": "code",
   "execution_count": 58,
   "id": "0d391197-b366-4c28-9428-1cb739614993",
   "metadata": {},
   "outputs": [
    {
     "name": "stdout",
     "output_type": "stream",
     "text": [
      "Suggested price: $28,435.89\n"
     ]
    }
   ],
   "source": [
    "#4.7 prediction\n",
    "ad = {\n",
    "    'city_mpg': 18,\n",
    "    'driven_wheels': 'all_wheel_drive',\n",
    "    'engine_cylinders': 6.0,\n",
    "    'engine_fuel_type': 'regular_unleaded',\n",
    "    'engine_hp': 268.0,\n",
    "    'highway_mpg': 25,\n",
    "    'make': 'toyota',\n",
    "    'market_category': 'crossover,performance',\n",
    "    'model': 'venza',\n",
    "    'number_of_doors': 4.0,\n",
    "    'popularity': 2031,\n",
    "    'transmission_type': 'automatic',\n",
    "    'vehicle_size': 'midsize',\n",
    "    'vehicle_style': 'wagon',\n",
    "    'year': 2013\n",
    "}\n",
    "\n",
    "#price prediction\n",
    "df_test = pd.DataFrame([ad]) #creat df\n",
    "X_test = prepare_X(df_test)  #build feature matrix\n",
    "y_pred = w_0 + X_test.dot(w)  #apply model to matrix for log price prediction\n",
    "\n",
    "suggestion = np.expm1(y_pred).item() #undo log to get actual price, convert from numpy array to scalar\n",
    "print(f\"Suggested price: ${suggestion:,.2f}\")"
   ]
  }
 ],
 "metadata": {
  "kernelspec": {
   "display_name": "Python 3 (ipykernel)",
   "language": "python",
   "name": "python3"
  },
  "language_info": {
   "codemirror_mode": {
    "name": "ipython",
    "version": 3
   },
   "file_extension": ".py",
   "mimetype": "text/x-python",
   "name": "python",
   "nbconvert_exporter": "python",
   "pygments_lexer": "ipython3",
   "version": "3.12.2"
  }
 },
 "nbformat": 4,
 "nbformat_minor": 5
}
